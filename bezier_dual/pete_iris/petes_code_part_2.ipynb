{
 "cells": [
  {
   "cell_type": "code",
   "execution_count": 1,
   "metadata": {},
   "outputs": [
    {
     "name": "stderr",
     "output_type": "stream",
     "text": [
      "INFO:drake:Meshcat listening for connections at http://localhost:7000\n"
     ]
    }
   ],
   "source": [
    "from pydrake.all import (DiagramBuilder, \n",
    "                         AddMultibodyPlantSceneGraph, \n",
    "                         Parser, \n",
    "                         LoadModelDirectives,\n",
    "                         ProcessModelDirectives,\n",
    "                         AddDefaultVisualization,\n",
    "                         Meldis, PackageMap, RobotDiagramBuilder\n",
    ")\n",
    "from manipulation import ConfigureParser\n",
    "import os\n",
    "def plant_builder(use_meshcat = False, use_rohan_scenario = False):\n",
    "    if use_meshcat:\n",
    "        meldis = Meldis()\n",
    "        meshcat = meldis.meshcat\n",
    "    builder = RobotDiagramBuilder()\n",
    "    plant = builder.plant()\n",
    "    scene_graph = builder.scene_graph()\n",
    "    parser = builder.parser()\n",
    "    ConfigureParser(parser)\n",
    "    if use_rohan_scenario:\n",
    "        # directives_file = './models/iiwa14_rohan_cheap.dmd.yaml'\n",
    "        directives_file = './models/iiwa14_rohan_cheap.dmd.yaml'\n",
    "    else:\n",
    "        directives_file = './models/iiwa14_david_cheap.dmd.yaml'\n",
    "        \n",
    "\n",
    "    parser.package_map().AddPackageXml(filename=os.path.abspath(\"./models/package.xml\"))\n",
    "    directives = LoadModelDirectives(directives_file)\n",
    "    models = ProcessModelDirectives(directives, plant, parser)\n",
    "    plant.Finalize()\n",
    "    if use_meshcat:\n",
    "        visualizer = AddDefaultVisualization(builder.builder(), meshcat)\n",
    "    diagram = builder.Build()\n",
    "    diagram_context = diagram.CreateDefaultContext()\n",
    "    plant_context = plant.GetMyContextFromRoot(diagram_context)\n",
    "    diagram.ForcedPublish(diagram_context)\n",
    "    return plant, scene_graph, diagram, diagram_context, plant_context, meshcat if use_meshcat else None\n",
    "\n",
    "\n",
    "use_rohan_scenario = True\n",
    "plant, scene_graph, diagram, diagram_context, plant_context, meshcat = plant_builder(True, use_rohan_scenario)\n",
    "scene_graph_context = scene_graph.GetMyMutableContextFromRoot(\n",
    "    diagram_context)"
   ]
  },
  {
   "cell_type": "code",
   "execution_count": 2,
   "metadata": {},
   "outputs": [],
   "source": [
    "from pydrake.geometry.optimization import Iris, IrisOptions, IrisInConfigurationSpace\n",
    "\n",
    "from arm_visualization import scenario_loader, Simulator\n",
    "from pydrake.all import ConvexSet, RandomGenerator\n",
    "def visualize_arm_at_samples_from_set(convex_set: ConvexSet, num_samples = 10, dt = 0.2, use_rohan_scenario=False):\n",
    "    np.random.seed(0)\n",
    "    sample = None\n",
    "    generator = RandomGenerator(1)\n",
    "    samples = []\n",
    "    for i in range(0,num_samples):    \n",
    "        if sample is not None:\n",
    "            sample = convex_set.UniformSample(generator, sample)\n",
    "        else:\n",
    "            sample = convex_set.UniformSample(generator)\n",
    "        samples.append(sample)\n",
    "\n",
    "    arm_components = scenario_loader(use_rohan_scenario=use_rohan_scenario)\n",
    "\n",
    "    simulator = Simulator(arm_components.diagram)\n",
    "    simulator.set_target_realtime_rate(1.0)\n",
    "\n",
    "    context = simulator.get_mutable_context()\n",
    "    plant_context = arm_components.plant.GetMyContextFromRoot(context)\n",
    "\n",
    "    arm_components.meshcat_visualizer.StartRecording()\n",
    "    t = 0\n",
    "    N = 20\n",
    "    for sample in samples:\n",
    "        for i in range(N):\n",
    "            t += dt/N\n",
    "            arm_components.plant.SetPositions(plant_context, sample)\n",
    "            arm_components.plant.SetVelocities(plant_context, np.zeros(7))\n",
    "            simulator.AdvanceTo(t)\n",
    "\n",
    "    arm_components.meshcat_visualizer.StopRecording()\n",
    "    arm_components.meshcat_visualizer.PublishRecording()"
   ]
  },
  {
   "cell_type": "code",
   "execution_count": 3,
   "metadata": {},
   "outputs": [],
   "source": [
    "from pydrake.all import (RigidTransform,\n",
    "                         RotationMatrix,\n",
    "                         InverseKinematics,\n",
    "                         Solve,\n",
    "                         Role,\n",
    "                         VPolytope,\n",
    "                         HPolyhedron\n",
    "                         )\n",
    "import numpy as np\n",
    "from tqdm import tqdm\n",
    "\n",
    "import multiprocessing as mp\n",
    "from functools import partial\n",
    "\n",
    "\n",
    "import numpy as np\n",
    "\n",
    "import random\n",
    "import colorsys\n",
    "from fractions import Fraction\n",
    "import itertools\n",
    "import matplotlib.pyplot as plt\n",
    "import matplotlib.colors as mcolors\n",
    "import numpy as np\n",
    "from pydrake.all import (Hyperellipsoid,\n",
    "                         MathematicalProgram,\n",
    "                         Solve, \n",
    "                         le,\n",
    "                         ge,\n",
    "                         eq,\n",
    "                         MosekSolver,\n",
    "                         VPolytope,\n",
    "                         PiecewisePolynomial,\n",
    "                         SolverOptions,\n",
    "                         CommonSolverOption,\n",
    "                         HPolyhedron)\n",
    "import pydrake.symbolic as sym\n",
    "\n",
    "from pydrake.all import Rgba, TriangleSurfaceMesh, SurfaceTriangle\n",
    "from scipy.spatial import ConvexHull\n",
    "\n",
    "from pydrake.all import Sphere\n",
    "\n",
    "import ipywidgets as widgets\n"
   ]
  },
  {
   "cell_type": "code",
   "execution_count": 4,
   "metadata": {},
   "outputs": [],
   "source": [
    "from pydrake.all import Sphere\n",
    "col_col =  Rgba(0.8, 0.0, 0, 0.5)    \n",
    "col_free =  Rgba(0.0, 0.8, 0.5, 0.5) \n",
    "\n",
    "def showres(qvis):\n",
    "    plant.SetPositions(plant_context, qvis)\n",
    "    diagram.ForcedPublish(diagram_context)\n",
    "    query = plant.get_geometry_query_input_port().Eval(plant_context)\n",
    "    col = query.HasCollisions()\n",
    "    if col:\n",
    "        meshcat.SetObject(f\"/drake/visualizer/col\",\n",
    "                                   Sphere(0.2),\n",
    "                                   col_col)\n",
    "    else:\n",
    "        meshcat.SetObject(f\"/drake/visualizer/col\",\n",
    "                                   Sphere(0.2),\n",
    "                                   col_free)\n",
    "    meshcat.SetTransform(f\"/drake/visualizer/col\",\n",
    "                                   RigidTransform(RotationMatrix(),\n",
    "                                                  np.array([0,0,2])))\n",
    "    return col"
   ]
  },
  {
   "cell_type": "code",
   "execution_count": 5,
   "metadata": {},
   "outputs": [
    {
     "name": "stderr",
     "output_type": "stream",
     "text": [
      "INFO:drake:Allocating contexts to support implicit context parallelism 10\n"
     ]
    }
   ],
   "source": [
    "from pydrake.all import SceneGraphCollisionChecker, VisibilityGraph\n",
    "robot_instances = [plant.GetModelInstanceByName(\"iiwa\"), plant.GetModelInstanceByName(\"wsg\")]\n",
    "checker = SceneGraphCollisionChecker(model = diagram, \n",
    "                    robot_model_instances = robot_instances,\n",
    "                    edge_step_size = 0.125)\n",
    "\n",
    "def vgraph(points, checker, parallelize):\n",
    "    ad_mat = VisibilityGraph(checker.Clone(), np.array(points).T, parallelize = parallelize)\n",
    "    N = ad_mat.shape[0]\n",
    "    for i in range(N):\n",
    "        ad_mat[i,i] = False\n",
    "    #TODO: need to make dense for now to avoid wierd nx bugs for saving the metis file.\n",
    "    return  ad_mat\n",
    "vgraph_handle = partial(vgraph, checker = checker, parallelize = True) "
   ]
  },
  {
   "cell_type": "code",
   "execution_count": 6,
   "metadata": {},
   "outputs": [],
   "source": [
    "from pydrake.all import MaxCliqueSolverViaGreedy\n",
    "\n",
    "def compute_double_greedy_clique_partition(adj_mat, min_cliuqe_size, worklimit =100):\n",
    "    cliques = []\n",
    "    done = False\n",
    "    adj_curr = adj_mat.copy()\n",
    "    #adj_curr = 1- adj_curr\n",
    "    #np.fill_diagonal(adj_curr, 0)\n",
    "    for i in range(adj_curr.shape[0]):\n",
    "        adj_curr[i,i] = False\n",
    "    ind_curr = np.arange(adj_curr.shape[0])\n",
    "    solver = MaxCliqueSolverViaGreedy()\n",
    "    while not done:\n",
    "        #val, ind_max_clique_local = solve_max_independent_set_integer(adj_curr, worklimit=worklimit) #solve_max_independet_set_KAMIS(adj_curr, maxtime = 5) #\n",
    "        maximal_clique_bools = solver.SolveMaxClique(adj_curr)\n",
    "        ind_max_clique_local = np.where(maximal_clique_bools)[0]\n",
    "        #non_max_ind_local = np.arange(len(adj_curr))\n",
    "        #non_max_ind_local = np.delete(non_max_ind_local, ind_max_clique_local, None)\n",
    "        index_max_clique_global = np.array([ind_curr[i] for i in ind_max_clique_local])\n",
    "        cliques.append(index_max_clique_global.reshape(-1))\n",
    "        adj_curr = np.delete(adj_curr, ind_max_clique_local, 0)\n",
    "        adj_curr = np.delete(adj_curr, ind_max_clique_local, 1)\n",
    "        ind_curr = np.delete(ind_curr, ind_max_clique_local)\n",
    "        if len(adj_curr) == 0 or len(cliques[-1])<min_cliuqe_size:\n",
    "            done = True\n",
    "    return cliques"
   ]
  },
  {
   "cell_type": "code",
   "execution_count": 7,
   "metadata": {},
   "outputs": [],
   "source": [
    "import os \n",
    "import pickle\n",
    "\n",
    "Npts = 1000\n",
    "seed = 5\n",
    "offset_size = 0.01\n",
    "with open(f\"./tmp/7DOFBINS_{Npts}_{offset_size}_{seed}.pkl\", 'rb') as f:\n",
    "    d = pickle.load(f)\n",
    "    q_obj = d['q_obj']\n",
    "    t_obj = d['t_obj']\n",
    "    q_tot = d['q_tot']\n",
    "    t_tot = d['t_tot']        \n",
    "    ad_mat = d['ad_obj']\n",
    "    ad_tot = d['ad_tot']\n",
    "    cliques_obj = d['cliques_obj']\n",
    "    cliques_tot = d['cliques_tot']"
   ]
  },
  {
   "cell_type": "code",
   "execution_count": 8,
   "metadata": {},
   "outputs": [],
   "source": [
    "def stretch_array_to_3d(arr, val=0.):\n",
    "    if arr.shape[0] < 3:\n",
    "        arr = np.append(arr, val * np.ones((3 - arr.shape[0])))\n",
    "    return arr\n",
    "def plot_point(point, meshcat_instance, name,\n",
    "               color=Rgba(0.06, 0.0, 0, 1), radius=0.01):\n",
    "    meshcat_instance.SetObject(name,\n",
    "                               Sphere(radius),\n",
    "                               color)\n",
    "    meshcat_instance.SetTransform(name, RigidTransform(\n",
    "        RotationMatrix(), stretch_array_to_3d(point)))\n",
    "\n",
    "def plot_points(meshcat, points, name, size = 0.05, color = Rgba(0.06, 0.0, 0, 1)):\n",
    "    for i, pt in enumerate(points):\n",
    "        n_i = name+f\"/pt{i}\"\n",
    "        plot_point(pt, meshcat, n_i, color = color, radius=size)"
   ]
  },
  {
   "cell_type": "code",
   "execution_count": 9,
   "metadata": {},
   "outputs": [],
   "source": [
    "for i, pts in enumerate(t_obj):\n",
    "    plot_points(meshcat, pts, f'task_space_pts{i}/')"
   ]
  },
  {
   "cell_type": "code",
   "execution_count": 10,
   "metadata": {},
   "outputs": [],
   "source": [
    "# import time\n",
    "# for q in q_obj[0]:\n",
    "#     showres(q)\n",
    "#     time.sleep(0.05)"
   ]
  },
  {
   "cell_type": "code",
   "execution_count": 11,
   "metadata": {},
   "outputs": [],
   "source": [
    "#construct regions in bins\n",
    "ellipsoids_obj = []\n",
    "for q_bin, clique_decomp in zip(q_obj, cliques_obj):\n",
    "    ellipsoids_bin = []\n",
    "    for cl in clique_decomp:\n",
    "        if len(cl)>=8:\n",
    "            points_clique = q_bin[cl]\n",
    "            ellipsoid = Hyperellipsoid.MinimumVolumeCircumscribedEllipsoid(points_clique.T)\n",
    "            ellipsoids_bin.append(ellipsoid)\n",
    "    ellipsoids_obj.append(ellipsoids_bin)\n",
    "\n",
    "#run iris on ellipsoids"
   ]
  },
  {
   "cell_type": "code",
   "execution_count": 12,
   "metadata": {},
   "outputs": [
    {
     "data": {
      "text/plain": [
       "[[<pydrake.geometry.optimization.Hyperellipsoid at 0x29dabae70>,\n",
       "  <pydrake.geometry.optimization.Hyperellipsoid at 0x110fb5bf0>,\n",
       "  <pydrake.geometry.optimization.Hyperellipsoid at 0x29e7d09f0>,\n",
       "  <pydrake.geometry.optimization.Hyperellipsoid at 0x29da30130>,\n",
       "  <pydrake.geometry.optimization.Hyperellipsoid at 0x29e76fe70>,\n",
       "  <pydrake.geometry.optimization.Hyperellipsoid at 0x29e735b30>,\n",
       "  <pydrake.geometry.optimization.Hyperellipsoid at 0x29e7d0a70>,\n",
       "  <pydrake.geometry.optimization.Hyperellipsoid at 0x29ecf2e70>,\n",
       "  <pydrake.geometry.optimization.Hyperellipsoid at 0x29ecf8bf0>,\n",
       "  <pydrake.geometry.optimization.Hyperellipsoid at 0x29da96930>,\n",
       "  <pydrake.geometry.optimization.Hyperellipsoid at 0x29ecf8cf0>,\n",
       "  <pydrake.geometry.optimization.Hyperellipsoid at 0x29ecf8db0>,\n",
       "  <pydrake.geometry.optimization.Hyperellipsoid at 0x29ecf8df0>,\n",
       "  <pydrake.geometry.optimization.Hyperellipsoid at 0x29ecf8d70>,\n",
       "  <pydrake.geometry.optimization.Hyperellipsoid at 0x29ecf8eb0>],\n",
       " [<pydrake.geometry.optimization.Hyperellipsoid at 0x29d9f79f0>,\n",
       "  <pydrake.geometry.optimization.Hyperellipsoid at 0x29e7c0830>,\n",
       "  <pydrake.geometry.optimization.Hyperellipsoid at 0x29ecf8ff0>,\n",
       "  <pydrake.geometry.optimization.Hyperellipsoid at 0x29ecf8f70>,\n",
       "  <pydrake.geometry.optimization.Hyperellipsoid at 0x29ecf8af0>,\n",
       "  <pydrake.geometry.optimization.Hyperellipsoid at 0x29ecf9130>,\n",
       "  <pydrake.geometry.optimization.Hyperellipsoid at 0x29da300b0>,\n",
       "  <pydrake.geometry.optimization.Hyperellipsoid at 0x29ecf91b0>,\n",
       "  <pydrake.geometry.optimization.Hyperellipsoid at 0x29ecf9230>,\n",
       "  <pydrake.geometry.optimization.Hyperellipsoid at 0x29e7c07f0>,\n",
       "  <pydrake.geometry.optimization.Hyperellipsoid at 0x29ecf92f0>,\n",
       "  <pydrake.geometry.optimization.Hyperellipsoid at 0x29ecf9370>,\n",
       "  <pydrake.geometry.optimization.Hyperellipsoid at 0x29ecf93f0>,\n",
       "  <pydrake.geometry.optimization.Hyperellipsoid at 0x29ecf9470>,\n",
       "  <pydrake.geometry.optimization.Hyperellipsoid at 0x29ecf94f0>]]"
      ]
     },
     "execution_count": 12,
     "metadata": {},
     "output_type": "execute_result"
    }
   ],
   "source": [
    "ellipsoids_obj"
   ]
  },
  {
   "cell_type": "code",
   "execution_count": 13,
   "metadata": {},
   "outputs": [],
   "source": [
    "# iris_options = IrisOptions()\n",
    "# iris_options.starting_ellipse = ellipsoids_obj[0][0]\n",
    "# iris_options.iteration_limit = 1\n",
    "# hpoly = IrisInConfigurationSpace(plant, plant_context, iris_options)\n"
   ]
  },
  {
   "cell_type": "code",
   "execution_count": 14,
   "metadata": {},
   "outputs": [],
   "source": [
    "# visualize_arm_at_samples_from_set(hpoly, 20, use_rohan_scenario=True)"
   ]
  },
  {
   "cell_type": "code",
   "execution_count": 16,
   "metadata": {},
   "outputs": [
    {
     "name": "stderr",
     "output_type": "stream",
     "text": [
      "  0%|          | 0/15 [00:00<?, ?it/s]INFO:drake:IrisInConfigurationSpace iteration 0\n",
      "INFO:drake:IrisInConfigurationSpace: Terminating because the iteration limit 1 has been reached.\n",
      "  7%|▋         | 1/15 [00:23<05:35, 23.98s/it]INFO:drake:IrisInConfigurationSpace iteration 0\n",
      "INFO:drake: Checking wsg::collision against bin1::left has already required 50 counter-example searches; still searching...\n",
      "INFO:drake: Finished checking wsg::collision against bin1::left after 68 counter-example searches.\n",
      "INFO:drake:IrisInConfigurationSpace: Terminating because the iteration limit 1 has been reached.\n",
      " 13%|█▎        | 2/15 [00:43<04:39, 21.46s/it]INFO:drake:IrisInConfigurationSpace iteration 0\n",
      "INFO:drake: Checking wsg::collision against bin1::left has already required 50 counter-example searches; still searching...\n",
      "INFO:drake: Finished checking wsg::collision against bin1::left after 73 counter-example searches.\n",
      "INFO:drake:IrisInConfigurationSpace: Terminating because the iteration limit 1 has been reached.\n",
      " 20%|██        | 3/15 [01:02<04:01, 20.10s/it]INFO:drake:IrisInConfigurationSpace iteration 0\n",
      "INFO:drake:IrisInConfigurationSpace: Terminating because the iteration limit 1 has been reached.\n",
      " 27%|██▋       | 4/15 [01:16<03:14, 17.65s/it]INFO:drake:IrisInConfigurationSpace iteration 0\n",
      "INFO:drake:IrisInConfigurationSpace: Terminating because the iteration limit 1 has been reached.\n",
      " 33%|███▎      | 5/15 [01:33<02:57, 17.75s/it]INFO:drake:IrisInConfigurationSpace iteration 0\n",
      " 40%|████      | 6/15 [01:34<01:48, 12.04s/it]INFO:drake:IrisInConfigurationSpace iteration 0\n"
     ]
    },
    {
     "name": "stdout",
     "output_type": "stream",
     "text": [
      "IRIS failed at  6\n"
     ]
    },
    {
     "name": "stderr",
     "output_type": "stream",
     "text": [
      "INFO:drake:IrisInConfigurationSpace: Terminating because the iteration limit 1 has been reached.\n",
      " 47%|████▋     | 7/15 [01:50<01:44, 13.03s/it]INFO:drake:IrisInConfigurationSpace iteration 0\n",
      "INFO:drake: Checking wsg::collision against bin1::left has already required 50 counter-example searches; still searching...\n",
      "INFO:drake: Finished checking wsg::collision against bin1::left after 54 counter-example searches.\n",
      "INFO:drake:IrisInConfigurationSpace: Terminating because the iteration limit 1 has been reached.\n",
      " 53%|█████▎    | 8/15 [02:03<01:31, 13.13s/it]INFO:drake:IrisInConfigurationSpace iteration 0\n",
      "INFO:drake: Checking wsg::collision against bin0::right has already required 50 counter-example searches; still searching...\n",
      "INFO:drake: Finished checking wsg::collision against bin0::right after 60 counter-example searches.\n",
      "INFO:drake:IrisInConfigurationSpace: Terminating because the iteration limit 1 has been reached.\n",
      " 60%|██████    | 9/15 [02:19<01:24, 14.02s/it]INFO:drake:IrisInConfigurationSpace iteration 0\n",
      "INFO:drake:IrisInConfigurationSpace: Terminating because the iteration limit 1 has been reached.\n",
      " 67%|██████▋   | 10/15 [02:28<01:02, 12.43s/it]INFO:drake:IrisInConfigurationSpace iteration 0\n",
      "INFO:drake:IrisInConfigurationSpace: Terminating because the iteration limit 1 has been reached.\n",
      " 73%|███████▎  | 11/15 [02:38<00:46, 11.72s/it]INFO:drake:IrisInConfigurationSpace iteration 0\n",
      "INFO:drake:IrisInConfigurationSpace: Terminating because the iteration limit 1 has been reached.\n",
      " 80%|████████  | 12/15 [02:54<00:39, 13.03s/it]INFO:drake:IrisInConfigurationSpace iteration 0\n",
      "INFO:drake:IrisInConfigurationSpace: Terminating because the iteration limit 1 has been reached.\n",
      " 87%|████████▋ | 13/15 [03:05<00:25, 12.61s/it]INFO:drake:IrisInConfigurationSpace iteration 0\n",
      "INFO:drake:IrisInConfigurationSpace: Terminating because the iteration limit 1 has been reached.\n",
      " 93%|█████████▎| 14/15 [03:20<00:13, 13.07s/it]INFO:drake:IrisInConfigurationSpace iteration 0\n",
      "INFO:drake:IrisInConfigurationSpace: Terminating because the iteration limit 1 has been reached.\n",
      "100%|██████████| 15/15 [03:27<00:00, 13.81s/it]\n",
      "  0%|          | 0/15 [00:00<?, ?it/s]INFO:drake:IrisInConfigurationSpace iteration 0\n",
      "INFO:drake: Checking wsg::collision against bin1::left has already required 50 counter-example searches; still searching...\n",
      "INFO:drake: Finished checking wsg::collision against bin1::left after 140 counter-example searches.\n",
      "INFO:drake:IrisInConfigurationSpace: Terminating because the iteration limit 1 has been reached.\n",
      "  7%|▋         | 1/15 [00:12<02:55, 12.52s/it]INFO:drake:IrisInConfigurationSpace iteration 0\n",
      "INFO:drake:IrisInConfigurationSpace: Terminating because the iteration limit 1 has been reached.\n",
      " 13%|█▎        | 2/15 [00:24<02:38, 12.17s/it]INFO:drake:IrisInConfigurationSpace iteration 0\n",
      "INFO:drake: Checking wsg::collision against bin1::left has already required 50 counter-example searches; still searching...\n",
      "INFO:drake: Finished checking wsg::collision against bin1::left after 99 counter-example searches.\n",
      "INFO:drake: Checking wsg::collision against bin1::left has already required 50 counter-example searches; still searching...\n",
      "INFO:drake: Finished checking wsg::collision against bin1::left after 67 counter-example searches.\n",
      "INFO:drake:IrisInConfigurationSpace: Terminating because the iteration limit 1 has been reached.\n",
      " 20%|██        | 3/15 [00:38<02:37, 13.16s/it]INFO:drake:IrisInConfigurationSpace iteration 0\n",
      "INFO:drake: Checking wsg::collision against bin1::left has already required 50 counter-example searches; still searching...\n",
      "INFO:drake: Finished checking wsg::collision against bin1::left after 52 counter-example searches.\n",
      "INFO:drake:IrisInConfigurationSpace: Terminating because the iteration limit 1 has been reached.\n",
      " 27%|██▋       | 4/15 [00:48<02:09, 11.78s/it]INFO:drake:IrisInConfigurationSpace iteration 0\n",
      "INFO:drake:IrisInConfigurationSpace: Terminating because the iteration limit 1 has been reached.\n",
      " 33%|███▎      | 5/15 [00:58<01:52, 11.22s/it]INFO:drake:IrisInConfigurationSpace iteration 0\n",
      "INFO:drake:IrisInConfigurationSpace: Terminating because the iteration limit 1 has been reached.\n",
      " 40%|████      | 6/15 [01:06<01:29,  9.98s/it]INFO:drake:IrisInConfigurationSpace iteration 0\n",
      "INFO:drake:IrisInConfigurationSpace: Terminating because the iteration limit 1 has been reached.\n",
      " 47%|████▋     | 7/15 [01:12<01:11,  8.89s/it]INFO:drake:IrisInConfigurationSpace iteration 0\n",
      "INFO:drake: Checking wsg::collision against bin1::left has already required 50 counter-example searches; still searching...\n",
      "INFO:drake: Finished checking wsg::collision against bin1::left after 76 counter-example searches.\n",
      "INFO:drake:IrisInConfigurationSpace: Terminating because the iteration limit 1 has been reached.\n",
      " 53%|█████▎    | 8/15 [01:25<01:11, 10.21s/it]INFO:drake:IrisInConfigurationSpace iteration 0\n",
      "INFO:drake:IrisInConfigurationSpace: Terminating because the iteration limit 1 has been reached.\n",
      " 60%|██████    | 9/15 [01:34<00:57,  9.60s/it]INFO:drake:IrisInConfigurationSpace iteration 0\n",
      "INFO:drake: Checking wsg::collision against bin1::left has already required 50 counter-example searches; still searching...\n",
      "INFO:drake: Finished checking wsg::collision against bin1::left after 50 counter-example searches.\n",
      "INFO:drake:IrisInConfigurationSpace: Terminating because the iteration limit 1 has been reached.\n",
      " 67%|██████▋   | 10/15 [01:41<00:44,  8.87s/it]INFO:drake:IrisInConfigurationSpace iteration 0\n",
      "INFO:drake:IrisInConfigurationSpace: Terminating because the iteration limit 1 has been reached.\n",
      " 73%|███████▎  | 11/15 [01:48<00:33,  8.43s/it]INFO:drake:IrisInConfigurationSpace iteration 0\n",
      "INFO:drake:IrisInConfigurationSpace: Terminating because the iteration limit 1 has been reached.\n",
      " 80%|████████  | 12/15 [01:56<00:24,  8.27s/it]INFO:drake:IrisInConfigurationSpace iteration 0\n",
      "INFO:drake:IrisInConfigurationSpace: Terminating because the iteration limit 1 has been reached.\n",
      " 87%|████████▋ | 13/15 [02:04<00:16,  8.01s/it]INFO:drake:IrisInConfigurationSpace iteration 0\n",
      "INFO:drake:IrisInConfigurationSpace: Terminating because the iteration limit 1 has been reached.\n",
      " 93%|█████████▎| 14/15 [02:14<00:08,  8.63s/it]INFO:drake:IrisInConfigurationSpace iteration 0\n",
      "INFO:drake:IrisInConfigurationSpace: Terminating because the iteration limit 1 has been reached.\n",
      "100%|██████████| 15/15 [02:18<00:00,  9.26s/it]\n"
     ]
    }
   ],
   "source": [
    "from pydrake.geometry.optimization import Iris, IrisOptions, IrisInConfigurationSpace\n",
    "\n",
    "i = 0\n",
    "all_hpolys = []\n",
    "for a_bin in ellipsoids_obj:\n",
    "    bin_hpolys = []\n",
    "    for ellipsoid in tqdm(a_bin):\n",
    "        i+=1\n",
    "        iris_options = IrisOptions()\n",
    "        iris_options.starting_ellipse = ellipsoid\n",
    "        iris_options.iteration_limit = 1\n",
    "        try:\n",
    "            hpoly = IrisInConfigurationSpace(plant, plant_context, iris_options)\n",
    "        except:\n",
    "            print(\"IRIS failed at \", i)\n",
    "        bin_hpolys.append(hpoly)\n",
    "    all_hpolys.append(bin_hpolys)"
   ]
  },
  {
   "cell_type": "code",
   "execution_count": 18,
   "metadata": {},
   "outputs": [
    {
     "name": "stderr",
     "output_type": "stream",
     "text": [
      "INFO:drake:Meshcat listening for connections at http://localhost:7015\n"
     ]
    },
    {
     "name": "stdout",
     "output_type": "stream",
     "text": [
      "0 0\n"
     ]
    },
    {
     "name": "stderr",
     "output_type": "stream",
     "text": [
      "INFO:drake:Meshcat listening for connections at http://localhost:7016\n"
     ]
    },
    {
     "name": "stdout",
     "output_type": "stream",
     "text": [
      "0 1\n"
     ]
    },
    {
     "name": "stderr",
     "output_type": "stream",
     "text": [
      "INFO:drake:Meshcat listening for connections at http://localhost:7017\n"
     ]
    },
    {
     "name": "stdout",
     "output_type": "stream",
     "text": [
      "0 2\n"
     ]
    },
    {
     "name": "stderr",
     "output_type": "stream",
     "text": [
      "INFO:drake:Meshcat listening for connections at http://localhost:7018\n"
     ]
    },
    {
     "name": "stdout",
     "output_type": "stream",
     "text": [
      "0 3\n"
     ]
    },
    {
     "name": "stderr",
     "output_type": "stream",
     "text": [
      "INFO:drake:Meshcat listening for connections at http://localhost:7019\n"
     ]
    },
    {
     "name": "stdout",
     "output_type": "stream",
     "text": [
      "0 4\n"
     ]
    },
    {
     "name": "stderr",
     "output_type": "stream",
     "text": [
      "INFO:drake:Meshcat listening for connections at http://localhost:7020\n"
     ]
    },
    {
     "name": "stdout",
     "output_type": "stream",
     "text": [
      "0 5\n"
     ]
    },
    {
     "name": "stderr",
     "output_type": "stream",
     "text": [
      "INFO:drake:Meshcat listening for connections at http://localhost:7021\n"
     ]
    },
    {
     "name": "stdout",
     "output_type": "stream",
     "text": [
      "0 6\n"
     ]
    },
    {
     "name": "stderr",
     "output_type": "stream",
     "text": [
      "INFO:drake:Meshcat listening for connections at http://localhost:7022\n"
     ]
    },
    {
     "name": "stdout",
     "output_type": "stream",
     "text": [
      "0 7\n"
     ]
    },
    {
     "name": "stderr",
     "output_type": "stream",
     "text": [
      "INFO:drake:Meshcat listening for connections at http://localhost:7023\n"
     ]
    },
    {
     "name": "stdout",
     "output_type": "stream",
     "text": [
      "0 8\n"
     ]
    },
    {
     "name": "stderr",
     "output_type": "stream",
     "text": [
      "INFO:drake:Meshcat listening for connections at http://localhost:7024\n"
     ]
    },
    {
     "name": "stdout",
     "output_type": "stream",
     "text": [
      "0 9\n"
     ]
    },
    {
     "name": "stderr",
     "output_type": "stream",
     "text": [
      "INFO:drake:Meshcat listening for connections at http://localhost:7025\n"
     ]
    },
    {
     "name": "stdout",
     "output_type": "stream",
     "text": [
      "0 10\n"
     ]
    },
    {
     "name": "stderr",
     "output_type": "stream",
     "text": [
      "INFO:drake:Meshcat listening for connections at http://localhost:7026\n"
     ]
    },
    {
     "name": "stdout",
     "output_type": "stream",
     "text": [
      "0 11\n"
     ]
    },
    {
     "name": "stderr",
     "output_type": "stream",
     "text": [
      "INFO:drake:Meshcat listening for connections at http://localhost:7027\n"
     ]
    },
    {
     "name": "stdout",
     "output_type": "stream",
     "text": [
      "0 12\n"
     ]
    },
    {
     "name": "stderr",
     "output_type": "stream",
     "text": [
      "INFO:drake:Meshcat listening for connections at http://localhost:7028\n"
     ]
    },
    {
     "name": "stdout",
     "output_type": "stream",
     "text": [
      "0 13\n"
     ]
    },
    {
     "name": "stderr",
     "output_type": "stream",
     "text": [
      "INFO:drake:Meshcat listening for connections at http://localhost:7029\n"
     ]
    },
    {
     "name": "stdout",
     "output_type": "stream",
     "text": [
      "0 14\n"
     ]
    },
    {
     "name": "stderr",
     "output_type": "stream",
     "text": [
      "INFO:drake:Meshcat listening for connections at http://localhost:7030\n"
     ]
    },
    {
     "name": "stdout",
     "output_type": "stream",
     "text": [
      "1 0\n"
     ]
    },
    {
     "name": "stderr",
     "output_type": "stream",
     "text": [
      "INFO:drake:Meshcat listening for connections at http://localhost:7031\n"
     ]
    },
    {
     "name": "stdout",
     "output_type": "stream",
     "text": [
      "1 1\n",
      "1 2\n"
     ]
    },
    {
     "name": "stderr",
     "output_type": "stream",
     "text": [
      "INFO:drake:Meshcat listening for connections at http://localhost:7032\n",
      "INFO:drake:Meshcat listening for connections at http://localhost:7033\n"
     ]
    },
    {
     "name": "stdout",
     "output_type": "stream",
     "text": [
      "1 3\n"
     ]
    },
    {
     "name": "stderr",
     "output_type": "stream",
     "text": [
      "INFO:drake:Meshcat listening for connections at http://localhost:7034\n"
     ]
    },
    {
     "name": "stdout",
     "output_type": "stream",
     "text": [
      "1 4\n"
     ]
    },
    {
     "name": "stderr",
     "output_type": "stream",
     "text": [
      "INFO:drake:Meshcat listening for connections at http://localhost:7035\n"
     ]
    },
    {
     "name": "stdout",
     "output_type": "stream",
     "text": [
      "1 5\n"
     ]
    },
    {
     "name": "stderr",
     "output_type": "stream",
     "text": [
      "INFO:drake:Meshcat listening for connections at http://localhost:7036\n"
     ]
    },
    {
     "name": "stdout",
     "output_type": "stream",
     "text": [
      "1 6\n"
     ]
    },
    {
     "name": "stderr",
     "output_type": "stream",
     "text": [
      "INFO:drake:Meshcat listening for connections at http://localhost:7037\n"
     ]
    },
    {
     "name": "stdout",
     "output_type": "stream",
     "text": [
      "1 7\n"
     ]
    },
    {
     "name": "stderr",
     "output_type": "stream",
     "text": [
      "INFO:drake:Meshcat listening for connections at http://localhost:7038\n"
     ]
    },
    {
     "name": "stdout",
     "output_type": "stream",
     "text": [
      "1 8\n"
     ]
    },
    {
     "name": "stderr",
     "output_type": "stream",
     "text": [
      "INFO:drake:Meshcat listening for connections at http://localhost:7039\n"
     ]
    },
    {
     "name": "stdout",
     "output_type": "stream",
     "text": [
      "1 9\n"
     ]
    },
    {
     "name": "stderr",
     "output_type": "stream",
     "text": [
      "INFO:drake:Meshcat listening for connections at http://localhost:7040\n"
     ]
    },
    {
     "name": "stdout",
     "output_type": "stream",
     "text": [
      "1 10\n"
     ]
    },
    {
     "name": "stderr",
     "output_type": "stream",
     "text": [
      "INFO:drake:Meshcat listening for connections at http://localhost:7041\n"
     ]
    },
    {
     "name": "stdout",
     "output_type": "stream",
     "text": [
      "1 11\n"
     ]
    },
    {
     "name": "stderr",
     "output_type": "stream",
     "text": [
      "INFO:drake:Meshcat listening for connections at http://localhost:7042\n"
     ]
    },
    {
     "name": "stdout",
     "output_type": "stream",
     "text": [
      "1 12\n"
     ]
    },
    {
     "name": "stderr",
     "output_type": "stream",
     "text": [
      "INFO:drake:Meshcat listening for connections at http://localhost:7043\n"
     ]
    },
    {
     "name": "stdout",
     "output_type": "stream",
     "text": [
      "1 13\n"
     ]
    },
    {
     "name": "stderr",
     "output_type": "stream",
     "text": [
      "INFO:drake:Meshcat listening for connections at http://localhost:7044\n"
     ]
    },
    {
     "name": "stdout",
     "output_type": "stream",
     "text": [
      "1 14\n"
     ]
    }
   ],
   "source": [
    "bin_index = 0\n",
    "for bin_hpolys in all_hpolys:\n",
    "    poly_index = 0\n",
    "    for hpoly in bin_hpolys:\n",
    "        print(bin_index, poly_index)\n",
    "        visualize_arm_at_samples_from_set(hpoly, 20, dt = 0.1, use_rohan_scenario=True)\n",
    "        poly_index += 1\n",
    "    bin_index += 1\n",
    "\n",
    "# 0 3\n",
    "# 0 4\n",
    "# 0 5\n",
    "# 0 6\n",
    "# 0 8\n",
    "# 0 9\n",
    "# 0 12\n",
    "# 0 13\n",
    "# 0 14\n",
    "\n",
    "# 1 5\n",
    "# 1 7\n",
    "# 1 10\n",
    "# 1 11\n",
    "# 1 12\n",
    "# 1 13\n",
    "# 1 14"
   ]
  },
  {
   "cell_type": "code",
   "execution_count": 19,
   "metadata": {},
   "outputs": [
    {
     "name": "stderr",
     "output_type": "stream",
     "text": [
      "INFO:drake:Meshcat listening for connections at http://localhost:7045\n"
     ]
    },
    {
     "name": "stdout",
     "output_type": "stream",
     "text": [
      "2 0\n"
     ]
    },
    {
     "name": "stderr",
     "output_type": "stream",
     "text": [
      "INFO:drake:Meshcat listening for connections at http://localhost:7046\n"
     ]
    },
    {
     "name": "stdout",
     "output_type": "stream",
     "text": [
      "2 1\n"
     ]
    },
    {
     "name": "stderr",
     "output_type": "stream",
     "text": [
      "INFO:drake:Meshcat listening for connections at http://localhost:7047\n"
     ]
    },
    {
     "name": "stdout",
     "output_type": "stream",
     "text": [
      "2 2\n"
     ]
    },
    {
     "name": "stderr",
     "output_type": "stream",
     "text": [
      "INFO:drake:Meshcat listening for connections at http://localhost:7048\n"
     ]
    },
    {
     "name": "stdout",
     "output_type": "stream",
     "text": [
      "2 3\n"
     ]
    },
    {
     "name": "stderr",
     "output_type": "stream",
     "text": [
      "INFO:drake:Meshcat listening for connections at http://localhost:7049\n"
     ]
    },
    {
     "name": "stdout",
     "output_type": "stream",
     "text": [
      "2 4\n"
     ]
    },
    {
     "name": "stderr",
     "output_type": "stream",
     "text": [
      "INFO:drake:Meshcat listening for connections at http://localhost:7050\n"
     ]
    },
    {
     "name": "stdout",
     "output_type": "stream",
     "text": [
      "2 5\n"
     ]
    },
    {
     "name": "stderr",
     "output_type": "stream",
     "text": [
      "INFO:drake:Meshcat listening for connections at http://localhost:7051\n"
     ]
    },
    {
     "name": "stdout",
     "output_type": "stream",
     "text": [
      "2 6\n"
     ]
    },
    {
     "name": "stderr",
     "output_type": "stream",
     "text": [
      "INFO:drake:Meshcat listening for connections at http://localhost:7052\n"
     ]
    },
    {
     "name": "stdout",
     "output_type": "stream",
     "text": [
      "2 7\n"
     ]
    },
    {
     "name": "stderr",
     "output_type": "stream",
     "text": [
      "INFO:drake:Meshcat listening for connections at http://localhost:7053\n"
     ]
    },
    {
     "name": "stdout",
     "output_type": "stream",
     "text": [
      "2 8\n"
     ]
    },
    {
     "name": "stderr",
     "output_type": "stream",
     "text": [
      "INFO:drake:Meshcat listening for connections at http://localhost:7054\n"
     ]
    },
    {
     "name": "stdout",
     "output_type": "stream",
     "text": [
      "2 9\n"
     ]
    },
    {
     "name": "stderr",
     "output_type": "stream",
     "text": [
      "INFO:drake:Meshcat listening for connections at http://localhost:7055\n"
     ]
    },
    {
     "name": "stdout",
     "output_type": "stream",
     "text": [
      "2 10\n"
     ]
    },
    {
     "name": "stderr",
     "output_type": "stream",
     "text": [
      "INFO:drake:Meshcat listening for connections at http://localhost:7056\n"
     ]
    },
    {
     "name": "stdout",
     "output_type": "stream",
     "text": [
      "2 11\n"
     ]
    },
    {
     "name": "stderr",
     "output_type": "stream",
     "text": [
      "INFO:drake:Meshcat listening for connections at http://localhost:7057\n"
     ]
    },
    {
     "name": "stdout",
     "output_type": "stream",
     "text": [
      "2 12\n"
     ]
    },
    {
     "name": "stderr",
     "output_type": "stream",
     "text": [
      "INFO:drake:Meshcat listening for connections at http://localhost:7058\n"
     ]
    },
    {
     "name": "stdout",
     "output_type": "stream",
     "text": [
      "2 13\n"
     ]
    },
    {
     "name": "stderr",
     "output_type": "stream",
     "text": [
      "INFO:drake:Meshcat listening for connections at http://localhost:7059\n"
     ]
    },
    {
     "name": "stdout",
     "output_type": "stream",
     "text": [
      "2 14\n"
     ]
    }
   ],
   "source": [
    "# bin_index = 0\n",
    "# for bin_hpolys in all_hpolys:\n",
    "poly_index = 0\n",
    "for hpoly in all_hpolys[1]:\n",
    "    print(bin_index, poly_index)\n",
    "    visualize_arm_at_samples_from_set(hpoly, 30, dt = 0.1, use_rohan_scenario=True)\n",
    "    poly_index += 1\n",
    "\n",
    "# 1 2 right, not too good\n",
    "# 1 3 center, top, not too good\n",
    "# 1 5 right, good\n",
    "# 1 6 not too good\n",
    "# 1 7 very good\n",
    "# 1 8 not too good, at an angle\n",
    "# 1 10 fantastic, center right\n",
    "# 1 11 fantasitc, center left\n",
    "# 1 12 pretty good, on right\n",
    "# 1 \n",
    "# 1 14 ok at an angle"
   ]
  },
  {
   "cell_type": "code",
   "execution_count": 20,
   "metadata": {},
   "outputs": [
    {
     "name": "stderr",
     "output_type": "stream",
     "text": [
      "INFO:drake:Meshcat listening for connections at http://localhost:7060\n",
      "INFO:drake:Meshcat listening for connections at http://localhost:7061\n"
     ]
    }
   ],
   "source": [
    "visualize_arm_at_samples_from_set(all_hpolys[1][10], 30, dt = 0.1, use_rohan_scenario=True)\n",
    "visualize_arm_at_samples_from_set(all_hpolys[1][11], 30, dt = 0.1, use_rohan_scenario=True)"
   ]
  },
  {
   "cell_type": "code",
   "execution_count": 21,
   "metadata": {},
   "outputs": [
    {
     "name": "stderr",
     "output_type": "stream",
     "text": [
      "INFO:drake:Meshcat listening for connections at http://localhost:7062\n"
     ]
    },
    {
     "name": "stdout",
     "output_type": "stream",
     "text": [
      "2 0\n"
     ]
    },
    {
     "name": "stderr",
     "output_type": "stream",
     "text": [
      "INFO:drake:Meshcat listening for connections at http://localhost:7063\n"
     ]
    },
    {
     "name": "stdout",
     "output_type": "stream",
     "text": [
      "2 1\n"
     ]
    },
    {
     "name": "stderr",
     "output_type": "stream",
     "text": [
      "INFO:drake:Meshcat listening for connections at http://localhost:7064\n"
     ]
    },
    {
     "name": "stdout",
     "output_type": "stream",
     "text": [
      "2 2\n"
     ]
    },
    {
     "name": "stderr",
     "output_type": "stream",
     "text": [
      "INFO:drake:Meshcat listening for connections at http://localhost:7065\n"
     ]
    },
    {
     "name": "stdout",
     "output_type": "stream",
     "text": [
      "2 3\n"
     ]
    },
    {
     "name": "stderr",
     "output_type": "stream",
     "text": [
      "INFO:drake:Meshcat listening for connections at http://localhost:7066\n"
     ]
    },
    {
     "name": "stdout",
     "output_type": "stream",
     "text": [
      "2 4\n"
     ]
    },
    {
     "name": "stderr",
     "output_type": "stream",
     "text": [
      "INFO:drake:Meshcat listening for connections at http://localhost:7067\n"
     ]
    },
    {
     "name": "stdout",
     "output_type": "stream",
     "text": [
      "2 5\n"
     ]
    },
    {
     "name": "stderr",
     "output_type": "stream",
     "text": [
      "INFO:drake:Meshcat listening for connections at http://localhost:7068\n"
     ]
    },
    {
     "name": "stdout",
     "output_type": "stream",
     "text": [
      "2 6\n"
     ]
    },
    {
     "name": "stderr",
     "output_type": "stream",
     "text": [
      "INFO:drake:Meshcat listening for connections at http://localhost:7069\n"
     ]
    },
    {
     "name": "stdout",
     "output_type": "stream",
     "text": [
      "2 7\n"
     ]
    },
    {
     "name": "stderr",
     "output_type": "stream",
     "text": [
      "INFO:drake:Meshcat listening for connections at http://localhost:7070\n"
     ]
    },
    {
     "name": "stdout",
     "output_type": "stream",
     "text": [
      "2 8\n"
     ]
    },
    {
     "name": "stderr",
     "output_type": "stream",
     "text": [
      "INFO:drake:Meshcat listening for connections at http://localhost:7071\n"
     ]
    },
    {
     "name": "stdout",
     "output_type": "stream",
     "text": [
      "2 9\n"
     ]
    },
    {
     "name": "stderr",
     "output_type": "stream",
     "text": [
      "INFO:drake:Meshcat listening for connections at http://localhost:7072\n"
     ]
    },
    {
     "name": "stdout",
     "output_type": "stream",
     "text": [
      "2 10\n"
     ]
    },
    {
     "name": "stderr",
     "output_type": "stream",
     "text": [
      "INFO:drake:Meshcat listening for connections at http://localhost:7073\n"
     ]
    },
    {
     "name": "stdout",
     "output_type": "stream",
     "text": [
      "2 11\n"
     ]
    },
    {
     "name": "stderr",
     "output_type": "stream",
     "text": [
      "INFO:drake:Meshcat listening for connections at http://localhost:7074\n"
     ]
    },
    {
     "name": "stdout",
     "output_type": "stream",
     "text": [
      "2 12\n"
     ]
    },
    {
     "name": "stderr",
     "output_type": "stream",
     "text": [
      "INFO:drake:Meshcat listening for connections at http://localhost:7075\n"
     ]
    },
    {
     "name": "stdout",
     "output_type": "stream",
     "text": [
      "2 13\n"
     ]
    },
    {
     "name": "stderr",
     "output_type": "stream",
     "text": [
      "INFO:drake:Meshcat listening for connections at http://localhost:7076\n"
     ]
    },
    {
     "name": "stdout",
     "output_type": "stream",
     "text": [
      "2 14\n"
     ]
    }
   ],
   "source": [
    "poly_index = 0\n",
    "for hpoly in all_hpolys[0]:\n",
    "    print(bin_index, poly_index)\n",
    "    visualize_arm_at_samples_from_set(hpoly, 30, dt = 0.1, use_rohan_scenario=True)\n",
    "    poly_index += 1\n",
    "\n",
    "# 0 11 a little too tall\n",
    "# 0 12 too much at an angle\n",
    "# 0 3 pretty good all over the place\n",
    "\n",
    "# 0 4 very good\n",
    "# 0 5 very good\n",
    "# 0 6 center\n",
    "# 0 7 center all over the place\n",
    "# 0 9 very good\n",
    "# 0 13 nice center\n",
    "# 0 14 nice"
   ]
  },
  {
   "cell_type": "code",
   "execution_count": 27,
   "metadata": {},
   "outputs": [
    {
     "name": "stderr",
     "output_type": "stream",
     "text": [
      "INFO:drake:Meshcat listening for connections at http://localhost:7105\n"
     ]
    },
    {
     "name": "stdout",
     "output_type": "stream",
     "text": [
      "2 4\n"
     ]
    },
    {
     "name": "stderr",
     "output_type": "stream",
     "text": [
      "INFO:drake:Meshcat listening for connections at http://localhost:7106\n"
     ]
    },
    {
     "name": "stdout",
     "output_type": "stream",
     "text": [
      "2 5\n"
     ]
    },
    {
     "name": "stderr",
     "output_type": "stream",
     "text": [
      "INFO:drake:Meshcat listening for connections at http://localhost:7107\n"
     ]
    },
    {
     "name": "stdout",
     "output_type": "stream",
     "text": [
      "2 6\n"
     ]
    },
    {
     "name": "stderr",
     "output_type": "stream",
     "text": [
      "INFO:drake:Meshcat listening for connections at http://localhost:7108\n"
     ]
    },
    {
     "name": "stdout",
     "output_type": "stream",
     "text": [
      "2 9\n"
     ]
    }
   ],
   "source": [
    "poly_index = 0\n",
    "for index in [4,5,6,9]: # 13 14\n",
    "    hpoly = all_hpolys[0][index]\n",
    "    print(bin_index, index)\n",
    "    visualize_arm_at_samples_from_set(hpoly, 30, dt = 0.1, use_rohan_scenario=True)\n",
    "\n",
    "# 1 5 6 9"
   ]
  },
  {
   "cell_type": "code",
   "execution_count": 28,
   "metadata": {},
   "outputs": [],
   "source": [
    "from pydrake.geometry.optimization import SaveIrisRegionsYamlFile"
   ]
  },
  {
   "cell_type": "code",
   "execution_count": 31,
   "metadata": {},
   "outputs": [],
   "source": [
    "bin_dict = {}\n",
    "bin_dict[\"RightBin0\"] = all_hpolys[1][10]\n",
    "bin_dict[\"RightBin1\"] = all_hpolys[1][11]\n",
    "\n",
    "bin_dict[\"LeftBin0\"] = all_hpolys[0][5]\n",
    "bin_dict[\"LeftBin1\"] = all_hpolys[0][6]\n",
    "bin_dict[\"LeftBin2\"] = all_hpolys[0][9]\n",
    "SaveIrisRegionsYamlFile(\"new_regions.yaml\", bin_dict)"
   ]
  },
  {
   "cell_type": "code",
   "execution_count": 33,
   "metadata": {},
   "outputs": [],
   "source": [
    "for i, convex_set in enumerate(all_hpolys[0]):\n",
    "    if convex_set.PointInSet(np.array([0, 0.3, 0, -1.8, 0, 1, 1.57])):\n",
    "        print(i)\n",
    "        visualize_arm_at_samples_from_set(convex_set, 30, dt = 0.1, use_rohan_scenario=True)"
   ]
  },
  {
   "cell_type": "code",
   "execution_count": null,
   "metadata": {},
   "outputs": [],
   "source": []
  }
 ],
 "metadata": {
  "kernelspec": {
   "display_name": "Python 3",
   "language": "python",
   "name": "python3"
  },
  "language_info": {
   "codemirror_mode": {
    "name": "ipython",
    "version": 3
   },
   "file_extension": ".py",
   "mimetype": "text/x-python",
   "name": "python",
   "nbconvert_exporter": "python",
   "pygments_lexer": "ipython3",
   "version": "3.11.3"
  }
 },
 "nbformat": 4,
 "nbformat_minor": 2
}
