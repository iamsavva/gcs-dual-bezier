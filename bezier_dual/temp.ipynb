{
 "cells": [
  {
   "cell_type": "code",
   "execution_count": 1,
   "metadata": {},
   "outputs": [],
   "source": [
    "import typing as T  # pylint: disable=unused-import\n",
    "\n",
    "import numpy as np\n",
    "import numpy.typing as npt\n",
    "\n",
    "from pydrake.solvers import (  # pylint: disable=import-error, no-name-in-module, unused-import\n",
    "    MathematicalProgram,\n",
    "    MathematicalProgramResult,\n",
    "    Solve,\n",
    "    MosekSolver,\n",
    "    GurobiSolver,\n",
    "    MosekSolverDetails,\n",
    "    SnoptSolver,\n",
    "    OsqpSolver,\n",
    "    ClarabelSolver,\n",
    "    IpoptSolver,\n",
    "    SolverOptions,\n",
    "    CommonSolverOption,\n",
    ")\n",
    "from pydrake.geometry.optimization import (  # pylint: disable=import-error, no-name-in-module\n",
    "    GraphOfConvexSets,\n",
    "    GraphOfConvexSetsOptions,\n",
    "    HPolyhedron,\n",
    "    Point,\n",
    "    ConvexSet,\n",
    "    Hyperrectangle,\n",
    ")\n",
    "import numbers\n",
    "import pydot\n",
    "\n",
    "from pydrake.symbolic import (  # pylint: disable=import-error, no-name-in-module, unused-import\n",
    "    Polynomial,\n",
    "    Variable,\n",
    "    Variables,\n",
    "    Expression,\n",
    ")\n",
    "from pydrake.math import (  # pylint: disable=import-error, no-name-in-module, unused-import\n",
    "    ge,\n",
    "    eq,\n",
    "    le,\n",
    ")\n"
   ]
  },
  {
   "cell_type": "code",
   "execution_count": 4,
   "metadata": {},
   "outputs": [],
   "source": [
    "gcs = GraphOfConvexSets()\n",
    "\n",
    "# generate 100 random square sets:\n",
    "np.random.seed = 1\n",
    "for i in range(500):\n",
    "    lb = np.random.uniform(0,100, 2)\n",
    "    wh = np.random.uniform(10,20, 2)\n",
    "    v = gcs.AddVertex(Hyperrectangle(lb, lb + wh))\n",
    "start = gcs.AddVertex(Hyperrectangle(np.zeros(2), np.ones(2)*10))\n",
    "target = gcs.AddVertex(Hyperrectangle(np.ones(2)*90, np.ones(2)*100))\n",
    "vertices = gcs.Vertices()\n",
    "for i, v in enumerate(vertices):\n",
    "    for j in range(i+1, len(vertices)):\n",
    "        w = vertices[j]\n",
    "        if not v.set().IntersectsWith(w.set()):\n",
    "            e = gcs.AddEdge(v, w)\n",
    "            e.AddCost( np.sum([(e.xu()[i]-e.xv()[i])**2 for i in range(2)]) )\n"
   ]
  },
  {
   "cell_type": "code",
   "execution_count": 6,
   "metadata": {},
   "outputs": [
    {
     "name": "stderr",
     "output_type": "stream",
     "text": [
      "INFO:drake:Solved GCS shortest path using Mosek with convex_relaxation=true and preprocessing=false and rounding.\n",
      "INFO:drake:Finished 100 rounding trials.\n"
     ]
    },
    {
     "name": "stdout",
     "output_type": "stream",
     "text": [
      "Solved:  True\n",
      "Time:  0.0002968311309814453\n"
     ]
    }
   ],
   "source": [
    "gcs_options = GraphOfConvexSetsOptions()\n",
    "gcs_options.convex_relaxation = True\n",
    "gcs_options.max_rounding_trials = 100\n",
    "gcs_options.max_rounded_paths = 100\n",
    "gcs_options.solver = MosekSolver()\n",
    "\n",
    "result = gcs.SolveShortestPath(start, target, options = gcs_options)\n",
    "\n",
    "print(\"Solved: \", result.is_success())\n",
    "print(\"Time: \", result.get_solver_details().optimizer_time)"
   ]
  },
  {
   "cell_type": "code",
   "execution_count": null,
   "metadata": {},
   "outputs": [],
   "source": []
  },
  {
   "cell_type": "code",
   "execution_count": null,
   "metadata": {},
   "outputs": [],
   "source": []
  }
 ],
 "metadata": {
  "kernelspec": {
   "display_name": "Python 3",
   "language": "python",
   "name": "python3"
  },
  "language_info": {
   "codemirror_mode": {
    "name": "ipython",
    "version": 3
   },
   "file_extension": ".py",
   "mimetype": "text/x-python",
   "name": "python",
   "nbconvert_exporter": "python",
   "pygments_lexer": "ipython3",
   "version": "3.11.3"
  }
 },
 "nbformat": 4,
 "nbformat_minor": 2
}
