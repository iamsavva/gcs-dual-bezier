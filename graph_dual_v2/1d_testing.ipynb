{
 "cells": [
  {
   "cell_type": "code",
   "execution_count": 1,
   "metadata": {},
   "outputs": [],
   "source": [
    "from gcs_dual import DualVertex, PolynomialDualGCS, DualEdge\n",
    "import numpy as np\n",
    "from program_options import ProgramOptions, PSD_POLY, FREE_POLY\n",
    "from pydrake.all import MosekSolver, Point, Hyperellipsoid, Hyperrectangle, HPolyhedron"
   ]
  },
  {
   "cell_type": "code",
   "execution_count": 2,
   "metadata": {},
   "outputs": [],
   "source": [
    "options = ProgramOptions()\n",
    "options.policy_solver = MosekSolver()\n",
    "options.allow_vertex_revisits = True\n",
    "options.forward_iteration_limit = 10000\n",
    "options.use_lookahead_policy = True\n",
    "options.use_lookahead_with_backtracking_policy = False\n",
    "options.s_procedure_multiplier_degree_for_linear_inequalities = 0\n",
    "options.s_procedure_take_product_of_linear_constraints = True"
   ]
  },
  {
   "cell_type": "code",
   "execution_count": 3,
   "metadata": {},
   "outputs": [
    {
     "name": "stdout",
     "output_type": "stream",
     "text": [
      "[1.]\n",
      "\u001b[34mSolve took 0.006s\n",
      "\u001b[32msolve successful!\n",
      "\u001b[32m-0.6666666428268859\n",
      "\u001b[32mSolutionResult.kSolutionFound\n",
      "\u001b[32mSolver is Mosek\n",
      "\u001b[32m<pydrake.solvers.MosekSolverDetails object at 0x2b32cdab0>\n",
      "\u001b[32mtime 0.0012159347534179688\n",
      "\u001b[32mrescode 0\n",
      "\u001b[32msolution_status 1\n"
     ]
    },
    {
     "data": {
      "text/plain": [
       "<pydrake.solvers.MathematicalProgramResult at 0x2b8562ff0>"
      ]
     },
     "execution_count": 3,
     "metadata": {},
     "output_type": "execute_result"
    }
   ],
   "source": [
    "target_set = Point([1])\n",
    "\n",
    "gcs = PolynomialDualGCS(options, target_set, )\n",
    "\n",
    "vt = gcs.vertices[\"target\"]\n",
    "v2 = gcs.AddVertex(\"v2\", Hyperrectangle([-1], [1]))\n",
    "v1 = gcs.AddVertex(\"v1\", Hyperrectangle([-1], [1]))\n",
    "vs = gcs.AddVertex(\"vs\", Hyperrectangle([-1], [1]))\n",
    "\n",
    "cost_function = lambda xl, u, xr, xt: np.sum([(xl[i] - xr[i]) ** 2 for i in range(len(xl))])\n",
    "cost_function_surr = lambda xl, u, xr, xt: np.sum([(xl[i] - xr[i]) ** 2 for i in range(len(xl))])\n",
    "\n",
    "es1 = gcs.AddEdge(vs, v1, cost_function, cost_function_surr)\n",
    "e12 = gcs.AddEdge(v1, v2, cost_function, cost_function_surr)\n",
    "e2t = gcs.AddEdge(v2, vt, cost_function, cost_function_surr)\n",
    "\n",
    "gcs.MaxCostOverVertex(vs)\n",
    "\n",
    "gcs.SolvePolicy()"
   ]
  },
  {
   "cell_type": "code",
   "execution_count": 6,
   "metadata": {},
   "outputs": [
    {
     "data": {
      "text/plain": [
       "array([[ 0.33324664, -0.3333333 ,  0.        ],\n",
       "       [-0.3333333 ,  0.33342   ,  0.        ],\n",
       "       [ 0.        ,  0.        ,  0.        ]])"
      ]
     },
     "execution_count": 6,
     "metadata": {},
     "output_type": "execute_result"
    }
   ],
   "source": [
    "vs.get_cost_to_go_at_point()"
   ]
  },
  {
   "cell_type": "code",
   "execution_count": null,
   "metadata": {},
   "outputs": [],
   "source": []
  }
 ],
 "metadata": {
  "kernelspec": {
   "display_name": "Python 3",
   "language": "python",
   "name": "python3"
  },
  "language_info": {
   "codemirror_mode": {
    "name": "ipython",
    "version": 3
   },
   "file_extension": ".py",
   "mimetype": "text/x-python",
   "name": "python",
   "nbconvert_exporter": "python",
   "pygments_lexer": "ipython3",
   "version": "3.11.3"
  }
 },
 "nbformat": 4,
 "nbformat_minor": 2
}
