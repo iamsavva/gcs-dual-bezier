{
 "cells": [
  {
   "cell_type": "code",
   "execution_count": 1,
   "metadata": {},
   "outputs": [],
   "source": [
    "from gcs_dual import DualVertex, PolynomialDualGCS, DualEdge\n",
    "import numpy as np\n",
    "from program_options import ProgramOptions, PSD_POLY, FREE_POLY\n",
    "from pydrake.all import MosekSolver, Point, Hyperellipsoid, Hyperrectangle, HPolyhedron\n",
    "from proper_gcs_policy import obtain_rollout, plot_rollout"
   ]
  },
  {
   "cell_type": "code",
   "execution_count": 2,
   "metadata": {},
   "outputs": [],
   "source": [
    "options = ProgramOptions()\n",
    "options.policy_solver = MosekSolver\n",
    "options.allow_vertex_revisits = True\n",
    "options.forward_iteration_limit = 10000\n",
    "options.use_lookahead_policy = True\n",
    "options.use_lookahead_with_backtracking_policy = False\n",
    "options.s_procedure_multiplier_degree_for_linear_inequalities = 0\n",
    "options.s_procedure_take_product_of_linear_constraints = True\n",
    "\n",
    "options.value_synthesis_use_robust_mosek_parameters = True\n",
    "options.value_synthesis_MSK_DPAR_INTPNT_CO_TOL_REL_GAP = 1e-9\n",
    "options.value_synthesis_MSK_DPAR_INTPNT_CO_TOL_PFEAS = 1e-9\n",
    "options.value_synthesis_MSK_DPAR_INTPNT_CO_TOL_DFEAS = 1e-9\n",
    "options.pot_type = PSD_POLY"
   ]
  },
  {
   "cell_type": "code",
   "execution_count": 5,
   "metadata": {},
   "outputs": [
    {
     "name": "stdout",
     "output_type": "stream",
     "text": [
      "\u001b[34mSolve took 0.007s\n",
      "\u001b[32msolve successful!\n",
      "\u001b[32m-0.13968892944439695\n",
      "\u001b[32mSolutionResult.kSolutionFound\n",
      "\u001b[32mSolver is Mosek\n",
      "\u001b[32m<pydrake.solvers.MosekSolverDetails object at 0x2b6f559b0>\n",
      "\u001b[32mtime 0.0013270378112792969\n",
      "\u001b[32mrescode 0\n",
      "\u001b[32msolution_status 1\n"
     ]
    },
    {
     "data": {
      "text/plain": [
       "<pydrake.solvers.MathematicalProgramResult at 0x2b6f560f0>"
      ]
     },
     "execution_count": 5,
     "metadata": {},
     "output_type": "execute_result"
    }
   ],
   "source": [
    "target_set = Point([1])\n",
    "\n",
    "gcs = PolynomialDualGCS(options, target_set)\n",
    "\n",
    "vt = gcs.vertices[\"target\"]\n",
    "v2 = gcs.AddVertex(\"v2\", Hyperrectangle([0], [1]))\n",
    "v1 = gcs.AddVertex(\"v1\", Hyperrectangle([0], [1]))\n",
    "vs = gcs.AddVertex(\"vs\", Point([0]))\n",
    "\n",
    "cost_function = lambda xl, u, xr, xt: 0.01+ np.sum([(xl[i] - xr[i]) ** 2 for i in range(len(xl))])\n",
    "cost_function_surr = lambda xl, u, xr, xt: 0.01+ np.sum([(xl[i] - xr[i]) ** 2 for i in range(len(xl))])\n",
    "\n",
    "es1 = gcs.AddEdge(vs, v1, cost_function, cost_function_surr)\n",
    "es2 = gcs.AddEdge(vs, v2, cost_function, cost_function_surr)\n",
    "\n",
    "e12, e21 = gcs.AddBidirectionalEdges(v1, v2, cost_function, cost_function_surr)\n",
    "e1t = gcs.AddEdge(v1, vt, cost_function, cost_function_surr)\n",
    "e2t = gcs.AddEdge(v2, vt, cost_function, cost_function_surr)\n",
    "\n",
    "gcs.MaxCostOverVertex(vs)\n",
    "\n",
    "gcs.SolvePolicy()\n",
    "\n",
    "\n"
   ]
  },
  {
   "cell_type": "code",
   "execution_count": 6,
   "metadata": {},
   "outputs": [
    {
     "name": "stdout",
     "output_type": "stream",
     "text": [
      "['vs', 'v2', 'v1', 'v2', 'v1', 'v2', 'v1', 'v2', 'v1', 'v2', 'v1', 'v2', 'v1', 'v2', 'v1', 'v2', 'target']\n",
      "[array([0.]), array([0.06249325]), array([0.12498537]), array([0.18748118]), array([0.24998196]), array([0.31248549]), array([0.37499008]), array([0.437495]), array([0.5]), array([0.56250499]), array([0.62500991]), array([0.68751451]), array([0.75001804]), array([0.81251881]), array([0.87501463]), array([0.93750674]), array([1.])]\n"
     ]
    }
   ],
   "source": [
    "traj, v_path, dt = obtain_rollout(gcs, 1, vs, np.array([0])) # TODO: bad assertion\n",
    "print([v.name for v in v_path])\n",
    "print(traj)"
   ]
  },
  {
   "cell_type": "code",
   "execution_count": null,
   "metadata": {},
   "outputs": [],
   "source": []
  },
  {
   "cell_type": "code",
   "execution_count": null,
   "metadata": {},
   "outputs": [],
   "source": []
  },
  {
   "cell_type": "code",
   "execution_count": null,
   "metadata": {},
   "outputs": [],
   "source": []
  },
  {
   "cell_type": "markdown",
   "metadata": {},
   "source": [
    "# simple example just a test"
   ]
  },
  {
   "cell_type": "code",
   "execution_count": 6,
   "metadata": {},
   "outputs": [
    {
     "name": "stdout",
     "output_type": "stream",
     "text": [
      "[1.]\n",
      "\u001b[34mSolve took 0.018s\n",
      "\u001b[32msolve successful!\n",
      "\u001b[32m-0.3333332823237622\n",
      "\u001b[32mSolutionResult.kSolutionFound\n",
      "\u001b[32mSolver is Mosek\n",
      "\u001b[32m<pydrake.solvers.MosekSolverDetails object at 0x2b91643b0>\n",
      "\u001b[32mtime 0.00244903564453125\n",
      "\u001b[32mrescode 0\n",
      "\u001b[32msolution_status 1\n"
     ]
    },
    {
     "data": {
      "text/plain": [
       "[array([1.]), array([0.66668752]), array([0.3333458]), array([-0.])]"
      ]
     },
     "execution_count": 6,
     "metadata": {},
     "output_type": "execute_result"
    }
   ],
   "source": [
    "target_set = Point([0])\n",
    "\n",
    "gcs = PolynomialDualGCS(options, target_set, )\n",
    "\n",
    "vt = gcs.vertices[\"target\"]\n",
    "v2 = gcs.AddVertex(\"v2\", Hyperrectangle([-1], [1]))\n",
    "v1 = gcs.AddVertex(\"v1\", Hyperrectangle([-1], [1]))\n",
    "vs = gcs.AddVertex(\"vs\", Hyperrectangle([-1], [1]))\n",
    "\n",
    "cost_function = lambda xl, u, xr, xt: np.sum([(xl[i] - xr[i]) ** 2 for i in range(len(xl))])\n",
    "cost_function_surr = lambda xl, u, xr, xt: np.sum([(xl[i] - xr[i]) ** 2 for i in range(len(xl))])\n",
    "\n",
    "es1 = gcs.AddEdge(vs, v1, cost_function, cost_function_surr)\n",
    "e12 = gcs.AddEdge(v1, v2, cost_function, cost_function_surr)\n",
    "e2t = gcs.AddEdge(v2, vt, cost_function, cost_function_surr)\n",
    "\n",
    "gcs.MaxCostOverVertex(vs)\n",
    "\n",
    "gcs.SolvePolicy()\n",
    "\n",
    "traj, v_path, dt = obtain_rollout(gcs, 1, vs, np.array([1]))\n",
    "[v.name for v in v_path]\n",
    "traj"
   ]
  },
  {
   "cell_type": "code",
   "execution_count": 4,
   "metadata": {},
   "outputs": [
    {
     "name": "stdout",
     "output_type": "stream",
     "text": [
      "Set parameter Username\n",
      "Academic license - for non-commercial use only - expires 2024-12-01\n"
     ]
    },
    {
     "ename": "IndexError",
     "evalue": "list index out of range",
     "output_type": "error",
     "traceback": [
      "\u001b[0;31m---------------------------------------------------------------------------\u001b[0m",
      "\u001b[0;31mIndexError\u001b[0m                                Traceback (most recent call last)",
      "Cell \u001b[0;32mIn[4], line 1\u001b[0m\n\u001b[0;32m----> 1\u001b[0m \u001b[43mobtain_rollout\u001b[49m\u001b[43m(\u001b[49m\u001b[43mgcs\u001b[49m\u001b[43m,\u001b[49m\u001b[43m \u001b[49m\u001b[38;5;241;43m1\u001b[39;49m\u001b[43m,\u001b[49m\u001b[43m \u001b[49m\u001b[43mvs\u001b[49m\u001b[43m,\u001b[49m\u001b[43m \u001b[49m\u001b[43mnp\u001b[49m\u001b[38;5;241;43m.\u001b[39;49m\u001b[43marray\u001b[49m\u001b[43m(\u001b[49m\u001b[43m[\u001b[49m\u001b[38;5;241;43m1\u001b[39;49m\u001b[43m]\u001b[49m\u001b[43m)\u001b[49m\u001b[43m)\u001b[49m\n",
      "File \u001b[0;32m~/Desktop/Codes/gcs/gcs-dual-bezier/graph_dual_v2/proper_gcs_policy.py:592\u001b[0m, in \u001b[0;36mobtain_rollout\u001b[0;34m(graph, lookahead, vertex, state, target_state)\u001b[0m\n\u001b[1;32m    590\u001b[0m timer \u001b[38;5;241m=\u001b[39m timeit()\n\u001b[1;32m    591\u001b[0m \u001b[38;5;28;01mif\u001b[39;00m options\u001b[38;5;241m.\u001b[39muse_lookahead_policy:\n\u001b[0;32m--> 592\u001b[0m     rollout_path, v_path \u001b[38;5;241m=\u001b[39m \u001b[43mlookahead_policy\u001b[49m\u001b[43m(\u001b[49m\u001b[43mgraph\u001b[49m\u001b[43m,\u001b[49m\u001b[43m \u001b[49m\u001b[43mvertex\u001b[49m\u001b[43m,\u001b[49m\u001b[43m \u001b[49m\u001b[43mstate\u001b[49m\u001b[43m,\u001b[49m\u001b[43m \u001b[49m\u001b[43moptions\u001b[49m\u001b[43m,\u001b[49m\u001b[43m \u001b[49m\u001b[43mtarget_state\u001b[49m\u001b[43m)\u001b[49m\n\u001b[1;32m    593\u001b[0m \u001b[38;5;28;01melif\u001b[39;00m options\u001b[38;5;241m.\u001b[39muse_lookahead_with_backtracking_policy:\n\u001b[1;32m    594\u001b[0m     rollout_path, v_path \u001b[38;5;241m=\u001b[39m lookahead_with_backtracking_policy(graph, vertex, state, options, target_state)\n",
      "File \u001b[0;32m~/Desktop/Codes/gcs/gcs-dual-bezier/graph_dual_v2/proper_gcs_policy.py:277\u001b[0m, in \u001b[0;36mlookahead_policy\u001b[0;34m(graph, vertex, initial_state, options, target_state)\u001b[0m\n\u001b[1;32m    273\u001b[0m num_iterations \u001b[38;5;241m=\u001b[39m \u001b[38;5;241m0\u001b[39m\n\u001b[1;32m    275\u001b[0m \u001b[38;5;28;01mwhile\u001b[39;00m \u001b[38;5;129;01mnot\u001b[39;00m vertex_now\u001b[38;5;241m.\u001b[39mvertex_is_target:\n\u001b[1;32m    276\u001b[0m     \u001b[38;5;66;03m# use a k-step lookahead to obtain optimal k-step lookahead path\u001b[39;00m\n\u001b[0;32m--> 277\u001b[0m     _, bezier_path, vertex_path \u001b[38;5;241m=\u001b[39m \u001b[43mget_k_step_optimal_path\u001b[49m\u001b[43m(\u001b[49m\n\u001b[1;32m    278\u001b[0m \u001b[43m        \u001b[49m\u001b[43mgraph\u001b[49m\u001b[43m,\u001b[49m\n\u001b[1;32m    279\u001b[0m \u001b[43m        \u001b[49m\u001b[43mvertex_now\u001b[49m\u001b[43m,\u001b[49m\n\u001b[1;32m    280\u001b[0m \u001b[43m        \u001b[49m\u001b[43mstate_now\u001b[49m\u001b[43m,\u001b[49m\n\u001b[1;32m    281\u001b[0m \u001b[43m        \u001b[49m\u001b[43moptions\u001b[49m\u001b[43m,\u001b[49m\n\u001b[1;32m    282\u001b[0m \u001b[43m        \u001b[49m\u001b[43malready_visited\u001b[49m\u001b[38;5;241;43m=\u001b[39;49m\u001b[43mvertex_path_so_far\u001b[49m\u001b[43m,\u001b[49m\n\u001b[1;32m    283\u001b[0m \u001b[43m        \u001b[49m\u001b[43mtarget_state\u001b[49m\u001b[43m \u001b[49m\u001b[38;5;241;43m=\u001b[39;49m\u001b[43m \u001b[49m\u001b[43mtarget_state\u001b[49m\u001b[43m,\u001b[49m\n\u001b[1;32m    284\u001b[0m \u001b[43m    \u001b[49m\u001b[43m)\u001b[49m\n\u001b[1;32m    285\u001b[0m     \u001b[38;5;28;01mif\u001b[39;00m bezier_path \u001b[38;5;129;01mis\u001b[39;00m \u001b[38;5;28;01mNone\u001b[39;00m:\n\u001b[1;32m    286\u001b[0m         WARN(\u001b[38;5;124m\"\u001b[39m\u001b[38;5;124mk-step optimal path couldn\u001b[39m\u001b[38;5;124m'\u001b[39m\u001b[38;5;124mt find a solution\u001b[39m\u001b[38;5;124m\"\u001b[39m, initial_state)\n",
      "File \u001b[0;32m~/Desktop/Codes/gcs/gcs-dual-bezier/graph_dual_v2/proper_gcs_policy.py:161\u001b[0m, in \u001b[0;36mget_k_step_optimal_path\u001b[0;34m(graph, vertex, state, options, already_visited, target_state)\u001b[0m\n\u001b[1;32m    159\u001b[0m     \u001b[38;5;28;01mreturn\u001b[39;00m best_cost, best_path, best_vertex_path\n\u001b[1;32m    160\u001b[0m \u001b[38;5;28;01mfor\u001b[39;00m (vertex_path, bezier_curves) \u001b[38;5;129;01min\u001b[39;00m solutions:\n\u001b[0;32m--> 161\u001b[0m     cost \u001b[38;5;241m=\u001b[39m \u001b[43mget_path_cost\u001b[49m\u001b[43m(\u001b[49m\u001b[43mgraph\u001b[49m\u001b[43m,\u001b[49m\u001b[43m \u001b[49m\u001b[43mvertex_path\u001b[49m\u001b[43m,\u001b[49m\u001b[43m \u001b[49m\u001b[43mbezier_curves\u001b[49m\u001b[43m,\u001b[49m\u001b[43m \u001b[49m\u001b[38;5;28;43;01mFalse\u001b[39;49;00m\u001b[43m,\u001b[49m\u001b[43m \u001b[49m\u001b[38;5;28;43;01mTrue\u001b[39;49;00m\u001b[43m,\u001b[49m\u001b[43m \u001b[49m\u001b[43mtarget_state\u001b[49m\u001b[38;5;241;43m=\u001b[39;49m\u001b[43mtarget_state\u001b[49m\u001b[43m)\u001b[49m\n\u001b[1;32m    162\u001b[0m     \u001b[38;5;28;01mif\u001b[39;00m cost \u001b[38;5;241m<\u001b[39m best_cost:\n\u001b[1;32m    163\u001b[0m         best_cost, best_path, best_vertex_path \u001b[38;5;241m=\u001b[39m cost, bezier_curves, vertex_path\n",
      "File \u001b[0;32m~/Desktop/Codes/gcs/gcs-dual-bezier/graph_dual_v2/solve_restriction.py:93\u001b[0m, in \u001b[0;36mget_path_cost\u001b[0;34m(graph, vertex_path, vertex_trajectory, use_surrogate, add_target_heuristic, target_state)\u001b[0m\n\u001b[1;32m     91\u001b[0m cost \u001b[38;5;241m=\u001b[39m \u001b[38;5;241m0.0\u001b[39m\n\u001b[1;32m     92\u001b[0m \u001b[38;5;28;01mfor\u001b[39;00m index, x_v \u001b[38;5;129;01min\u001b[39;00m \u001b[38;5;28menumerate\u001b[39m(vertex_trajectory):\n\u001b[0;32m---> 93\u001b[0m     edge \u001b[38;5;241m=\u001b[39m graph\u001b[38;5;241m.\u001b[39medges[get_edge_name(vertex_path[index]\u001b[38;5;241m.\u001b[39mname, \u001b[43mvertex_path\u001b[49m\u001b[43m[\u001b[49m\u001b[43mindex\u001b[49m\u001b[43m \u001b[49m\u001b[38;5;241;43m+\u001b[39;49m\u001b[43m \u001b[49m\u001b[38;5;241;43m1\u001b[39;49m\u001b[43m]\u001b[49m\u001b[38;5;241m.\u001b[39mname)]\n\u001b[1;32m     94\u001b[0m     x_v_1 \u001b[38;5;241m=\u001b[39m vertex_trajectory[index\u001b[38;5;241m+\u001b[39m\u001b[38;5;241m1\u001b[39m]\n\u001b[1;32m     95\u001b[0m     \u001b[38;5;28;01mif\u001b[39;00m use_surrogate:\n",
      "\u001b[0;31mIndexError\u001b[0m: list index out of range"
     ]
    }
   ],
   "source": []
  },
  {
   "cell_type": "code",
   "execution_count": null,
   "metadata": {},
   "outputs": [],
   "source": []
  }
 ],
 "metadata": {
  "kernelspec": {
   "display_name": "Python 3",
   "language": "python",
   "name": "python3"
  },
  "language_info": {
   "codemirror_mode": {
    "name": "ipython",
    "version": 3
   },
   "file_extension": ".py",
   "mimetype": "text/x-python",
   "name": "python",
   "nbconvert_exporter": "python",
   "pygments_lexer": "ipython3",
   "version": "3.11.3"
  }
 },
 "nbformat": 4,
 "nbformat_minor": 2
}
