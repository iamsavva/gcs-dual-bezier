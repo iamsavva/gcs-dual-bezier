{
 "cells": [
  {
   "cell_type": "code",
   "execution_count": 41,
   "metadata": {},
   "outputs": [],
   "source": [
    "from pydrake.all import ConvexSet, HPolyhedron, Hyperellipsoid,Point, MakeSemidefiniteRelaxation, MathematicalProgram, Solve, MathematicalProgramResult, ToLatex\n",
    "import numpy as np\n",
    "from scipy.linalg import block_diag\n",
    "from util import latex\n",
    "from pydrake.all import eq"
   ]
  },
  {
   "cell_type": "code",
   "execution_count": 33,
   "metadata": {},
   "outputs": [
    {
     "data": {
      "text/plain": [
       "inf"
      ]
     },
     "execution_count": 33,
     "metadata": {},
     "output_type": "execute_result"
    }
   ],
   "source": [
    "np.inf"
   ]
  },
  {
   "cell_type": "code",
   "execution_count": 42,
   "metadata": {},
   "outputs": [
    {
     "data": {
      "text/markdown": [
       "\\begin{align*}\n",
       "\\text{find}_{Symmetric_{0,0}, Symmetric_{1,0}, Symmetric_{1,1}} \\quad & \\\\\n",
       " \\text{subject to}\\quad & \\begin{bmatrix} 1 & 0 & 0 \\\\ 0 & 1 & 0 \\\\ 0 & 1 & 0 \\\\ 0 & 0 & 1 \\end{bmatrix} \\begin{bmatrix} Symmetric_{0,0} \\\\ Symmetric_{1,0} \\\\ Symmetric_{1,1} \\end{bmatrix} = \\begin{bmatrix} 1 \\\\ 0 \\\\ 0 \\\\ 1 \\end{bmatrix}.\\\\\n",
       "\\end{align*}\n"
      ],
      "text/plain": [
       "<IPython.core.display.Markdown object>"
      ]
     },
     "metadata": {},
     "output_type": "display_data"
    },
    {
     "data": {
      "text/markdown": [
       "\\begin{align*}\n",
       "\\text{find}_{x_{0}, y_{0}, one, Y_{0,0}, Y_{1,0}, Y_{1,1}} \\quad & \\\\\n",
       " \\text{subject to}\\quad & Y_{0,0} \\le 1,\\\\\n",
       " & one = 1,\\\\\n",
       " & \\begin{bmatrix} Y_{0,0} & Y_{1,0} & x_{0} \\\\ Y_{1,0} & Y_{1,1} & y_{0} \\\\ x_{0} & y_{0} & one \\end{bmatrix} \\succeq 0.\\\\\n",
       "\\end{align*}\n"
      ],
      "text/plain": [
       "<IPython.core.display.Markdown object>"
      ]
     },
     "metadata": {},
     "output_type": "display_data"
    }
   ],
   "source": [
    "prog = MathematicalProgram()\n",
    "# x = prog.NewContinuousVariables(1, \"x\")\n",
    "# y = prog.NewContinuousVariables(1, \"y\")\n",
    "# prog.AddLinearConstraint(x[0] == 2)\n",
    "\n",
    "x = prog.NewSymmetricContinuousVariables(2)\n",
    "prog.AddLinearConstraint(eq(x,np.eye(2)))\n",
    "\n",
    "# convex_set = Hyperellipsoid(np.eye(1), [0])\n",
    "\n",
    "# A, c = convex_set.A(), convex_set.center()\n",
    "# prog.AddQuadraticConstraint( (x-c).dot( A.T @ A ).dot(x-c),-np.inf, 1)\n",
    "\n",
    "# prog.AddConstraint( (x-c).dot( A.T @ A ).dot(x-c) <= 1 )\n",
    "\n",
    "# # print((x-c).dot( A.T @ A ).dot(x-c))\n",
    "# # lhs = (convex_set.A().dot(x) - convex_set.A().dot(convex_set.center()))\n",
    "# # rhs = [1]\n",
    "# # prog.AddLorentzConeConstraint(np.hstack((rhs[0], lhs)))\n",
    "\n",
    "# sdp_prog = MakeSemidefiniteRelaxation(prog)\n",
    "\n",
    "\n",
    "\n",
    "\n",
    "\n",
    "\n",
    "latex(prog)\n",
    "latex(sdp_prog)"
   ]
  },
  {
   "cell_type": "code",
   "execution_count": 11,
   "metadata": {},
   "outputs": [
    {
     "data": {
      "text/plain": [
       "array([Variable('x(0)', Continuous), Variable('y(0)', Continuous),\n",
       "       Variable('one', Continuous), Variable('Y(0,0)', Continuous),\n",
       "       Variable('Y(1,0)', Continuous), Variable('Y(1,1)', Continuous)],\n",
       "      dtype=object)"
      ]
     },
     "execution_count": 11,
     "metadata": {},
     "output_type": "execute_result"
    }
   ],
   "source": [
    "sdp_prog.decision_variables()"
   ]
  },
  {
   "cell_type": "code",
   "execution_count": null,
   "metadata": {},
   "outputs": [],
   "source": []
  },
  {
   "cell_type": "code",
   "execution_count": 4,
   "metadata": {},
   "outputs": [],
   "source": [
    "a = HPolyhedron([])"
   ]
  },
  {
   "cell_type": "code",
   "execution_count": 5,
   "metadata": {},
   "outputs": [
    {
     "data": {
      "text/plain": [
       "0"
      ]
     },
     "execution_count": 5,
     "metadata": {},
     "output_type": "execute_result"
    }
   ],
   "source": [
    "a.ambient_dimension()"
   ]
  },
  {
   "cell_type": "code",
   "execution_count": 7,
   "metadata": {},
   "outputs": [
    {
     "data": {
      "text/plain": [
       "3"
      ]
     },
     "execution_count": 7,
     "metadata": {},
     "output_type": "execute_result"
    }
   ],
   "source": [
    "Point([1,2,3]).ambient_dimension()"
   ]
  },
  {
   "cell_type": "code",
   "execution_count": 2,
   "metadata": {},
   "outputs": [
    {
     "data": {
      "text/plain": [
       "False"
      ]
     },
     "execution_count": 2,
     "metadata": {},
     "output_type": "execute_result"
    }
   ],
   "source": [
    "t = {1:2,3:4}\n",
    "2 in t"
   ]
  },
  {
   "cell_type": "code",
   "execution_count": 8,
   "metadata": {},
   "outputs": [
    {
     "data": {
      "text/plain": [
       "False"
      ]
     },
     "execution_count": 8,
     "metadata": {},
     "output_type": "execute_result"
    }
   ],
   "source": [
    "type(HPolyhedron())"
   ]
  },
  {
   "cell_type": "code",
   "execution_count": 13,
   "metadata": {},
   "outputs": [
    {
     "data": {
      "text/plain": [
       "array([[1., 1., 1., 0., 0.],\n",
       "       [1., 1., 1., 0., 0.],\n",
       "       [0., 0., 0., 2., 2.],\n",
       "       [0., 0., 0., 2., 2.]])"
      ]
     },
     "execution_count": 13,
     "metadata": {},
     "output_type": "execute_result"
    }
   ],
   "source": [
    "block_diag( np.ones((2,3)), 2*np.ones((2,2)))"
   ]
  },
  {
   "cell_type": "code",
   "execution_count": null,
   "metadata": {},
   "outputs": [],
   "source": []
  }
 ],
 "metadata": {
  "kernelspec": {
   "display_name": "Python 3",
   "language": "python",
   "name": "python3"
  },
  "language_info": {
   "codemirror_mode": {
    "name": "ipython",
    "version": 3
   },
   "file_extension": ".py",
   "mimetype": "text/x-python",
   "name": "python",
   "nbconvert_exporter": "python",
   "pygments_lexer": "ipython3",
   "version": "3.11.3"
  }
 },
 "nbformat": 4,
 "nbformat_minor": 2
}
